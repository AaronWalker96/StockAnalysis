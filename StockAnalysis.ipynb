{
 "cells": [
  {
   "cell_type": "markdown",
   "metadata": {},
   "source": [
    "# Stock Analysis and Prediction\n",
    "This notebook contains analysis on the stock price of a given comapany, including predictions of future prices."
   ]
  },
  {
   "cell_type": "markdown",
   "metadata": {},
   "source": [
    "# Table of Contents\n",
    "1. [Setup](#setup)\n",
    "    1. [Imports](#imports)\n",
    "    1. [Get Stock Prices](#getstockprices)\n",
    "1. [Analysis](#analysis)"
   ]
  },
  {
   "cell_type": "markdown",
   "metadata": {},
   "source": [
    "## Setup <a name=\"setup\"></a>\n",
    "This section contains the setup requried for this notebook."
   ]
  },
  {
   "cell_type": "markdown",
   "metadata": {},
   "source": [
    "### Imports <a name=\"imports\"></a>"
   ]
  },
  {
   "cell_type": "code",
   "execution_count": 71,
   "metadata": {},
   "outputs": [],
   "source": [
    "# Imports\n",
    "from datetime import date\n",
    "import pandas as pd\n",
    "from pandas_datareader import data\n",
    "import numpy as np\n",
    "import math\n",
    "from sklearn import preprocessing, svm, model_selection\n",
    "from sklearn.linear_model import LinearRegression\n",
    "import matplotlib.pyplot as plt"
   ]
  },
  {
   "cell_type": "markdown",
   "metadata": {},
   "source": [
    "### Get Stock Prices <a name=\"getstockprices\"></a>"
   ]
  },
  {
   "cell_type": "code",
   "execution_count": 90,
   "metadata": {},
   "outputs": [],
   "source": [
    "# Define the company we want to analyse\n",
    "company = 'GOOGL'\n",
    "\n",
    "# We would like all available data until today.\n",
    "start_date = '2015-01-01'\n",
    "end_date = date.today()\n",
    "\n",
    "# User pandas_reader.data.DataReader to load the desired data and add new columns with additional information\n",
    "df = data.DataReader(company, 'yahoo', start_date, end_date)"
   ]
  },
  {
   "cell_type": "code",
   "execution_count": 91,
   "metadata": {},
   "outputs": [
    {
     "data": {
      "text/html": [
       "<div>\n",
       "<style scoped>\n",
       "    .dataframe tbody tr th:only-of-type {\n",
       "        vertical-align: middle;\n",
       "    }\n",
       "\n",
       "    .dataframe tbody tr th {\n",
       "        vertical-align: top;\n",
       "    }\n",
       "\n",
       "    .dataframe thead th {\n",
       "        text-align: right;\n",
       "    }\n",
       "</style>\n",
       "<table border=\"1\" class=\"dataframe\">\n",
       "  <thead>\n",
       "    <tr style=\"text-align: right;\">\n",
       "      <th></th>\n",
       "      <th>High</th>\n",
       "      <th>Low</th>\n",
       "      <th>Open</th>\n",
       "      <th>Close</th>\n",
       "      <th>Volume</th>\n",
       "      <th>Adj Close</th>\n",
       "    </tr>\n",
       "    <tr>\n",
       "      <th>Date</th>\n",
       "      <th></th>\n",
       "      <th></th>\n",
       "      <th></th>\n",
       "      <th></th>\n",
       "      <th></th>\n",
       "      <th></th>\n",
       "    </tr>\n",
       "  </thead>\n",
       "  <tbody>\n",
       "    <tr>\n",
       "      <th>2019-12-17</th>\n",
       "      <td>1364.329956</td>\n",
       "      <td>1350.770020</td>\n",
       "      <td>1362.410034</td>\n",
       "      <td>1354.890015</td>\n",
       "      <td>1647400</td>\n",
       "      <td>1354.890015</td>\n",
       "    </tr>\n",
       "    <tr>\n",
       "      <th>2019-12-18</th>\n",
       "      <td>1359.430054</td>\n",
       "      <td>1350.459961</td>\n",
       "      <td>1357.000000</td>\n",
       "      <td>1351.910034</td>\n",
       "      <td>1166500</td>\n",
       "      <td>1351.910034</td>\n",
       "    </tr>\n",
       "    <tr>\n",
       "      <th>2019-12-19</th>\n",
       "      <td>1357.530029</td>\n",
       "      <td>1348.750000</td>\n",
       "      <td>1351.910034</td>\n",
       "      <td>1356.439941</td>\n",
       "      <td>1446100</td>\n",
       "      <td>1356.439941</td>\n",
       "    </tr>\n",
       "    <tr>\n",
       "      <th>2019-12-20</th>\n",
       "      <td>1364.000000</td>\n",
       "      <td>1350.729980</td>\n",
       "      <td>1363.099976</td>\n",
       "      <td>1351.219971</td>\n",
       "      <td>2504500</td>\n",
       "      <td>1351.219971</td>\n",
       "    </tr>\n",
       "    <tr>\n",
       "      <th>2019-12-23</th>\n",
       "      <td>1361.540039</td>\n",
       "      <td>1348.050049</td>\n",
       "      <td>1358.729980</td>\n",
       "      <td>1350.630005</td>\n",
       "      <td>794751</td>\n",
       "      <td>1350.630005</td>\n",
       "    </tr>\n",
       "  </tbody>\n",
       "</table>\n",
       "</div>"
      ],
      "text/plain": [
       "                   High          Low         Open        Close   Volume  \\\n",
       "Date                                                                      \n",
       "2019-12-17  1364.329956  1350.770020  1362.410034  1354.890015  1647400   \n",
       "2019-12-18  1359.430054  1350.459961  1357.000000  1351.910034  1166500   \n",
       "2019-12-19  1357.530029  1348.750000  1351.910034  1356.439941  1446100   \n",
       "2019-12-20  1364.000000  1350.729980  1363.099976  1351.219971  2504500   \n",
       "2019-12-23  1361.540039  1348.050049  1358.729980  1350.630005   794751   \n",
       "\n",
       "              Adj Close  \n",
       "Date                     \n",
       "2019-12-17  1354.890015  \n",
       "2019-12-18  1351.910034  \n",
       "2019-12-19  1356.439941  \n",
       "2019-12-20  1351.219971  \n",
       "2019-12-23  1350.630005  "
      ]
     },
     "execution_count": 91,
     "metadata": {},
     "output_type": "execute_result"
    }
   ],
   "source": [
    "df.tail()"
   ]
  },
  {
   "cell_type": "markdown",
   "metadata": {},
   "source": [
    "## Analysis <a name=\"analysis\"></a>"
   ]
  },
  {
   "cell_type": "markdown",
   "metadata": {},
   "source": [
    "### Calculate Requried Columns for Prediction"
   ]
  },
  {
   "cell_type": "code",
   "execution_count": 92,
   "metadata": {},
   "outputs": [
    {
     "data": {
      "text/html": [
       "<div>\n",
       "<style scoped>\n",
       "    .dataframe tbody tr th:only-of-type {\n",
       "        vertical-align: middle;\n",
       "    }\n",
       "\n",
       "    .dataframe tbody tr th {\n",
       "        vertical-align: top;\n",
       "    }\n",
       "\n",
       "    .dataframe thead th {\n",
       "        text-align: right;\n",
       "    }\n",
       "</style>\n",
       "<table border=\"1\" class=\"dataframe\">\n",
       "  <thead>\n",
       "    <tr style=\"text-align: right;\">\n",
       "      <th></th>\n",
       "      <th>Close</th>\n",
       "      <th>percentage_h_l</th>\n",
       "      <th>percentage_change</th>\n",
       "      <th>Volume</th>\n",
       "      <th>label</th>\n",
       "    </tr>\n",
       "    <tr>\n",
       "      <th>Date</th>\n",
       "      <th></th>\n",
       "      <th></th>\n",
       "      <th></th>\n",
       "      <th></th>\n",
       "      <th></th>\n",
       "    </tr>\n",
       "  </thead>\n",
       "  <tbody>\n",
       "    <tr>\n",
       "      <th>2019-11-27</th>\n",
       "      <td>1312.130005</td>\n",
       "      <td>0.622655</td>\n",
       "      <td>-0.250113</td>\n",
       "      <td>940400</td>\n",
       "      <td>1354.890015</td>\n",
       "    </tr>\n",
       "    <tr>\n",
       "      <th>2019-11-29</th>\n",
       "      <td>1304.089966</td>\n",
       "      <td>0.515300</td>\n",
       "      <td>-0.192102</td>\n",
       "      <td>640100</td>\n",
       "      <td>1351.910034</td>\n",
       "    </tr>\n",
       "    <tr>\n",
       "      <th>2019-12-02</th>\n",
       "      <td>1288.859985</td>\n",
       "      <td>1.944349</td>\n",
       "      <td>-1.051781</td>\n",
       "      <td>1326900</td>\n",
       "      <td>1356.439941</td>\n",
       "    </tr>\n",
       "    <tr>\n",
       "      <th>2019-12-03</th>\n",
       "      <td>1294.739990</td>\n",
       "      <td>1.558609</td>\n",
       "      <td>1.257563</td>\n",
       "      <td>1263500</td>\n",
       "      <td>1351.219971</td>\n",
       "    </tr>\n",
       "    <tr>\n",
       "      <th>2019-12-04</th>\n",
       "      <td>1318.939941</td>\n",
       "      <td>1.608866</td>\n",
       "      <td>0.983077</td>\n",
       "      <td>1775300</td>\n",
       "      <td>1350.630005</td>\n",
       "    </tr>\n",
       "  </tbody>\n",
       "</table>\n",
       "</div>"
      ],
      "text/plain": [
       "                  Close  percentage_h_l  percentage_change   Volume  \\\n",
       "Date                                                                  \n",
       "2019-11-27  1312.130005        0.622655          -0.250113   940400   \n",
       "2019-11-29  1304.089966        0.515300          -0.192102   640100   \n",
       "2019-12-02  1288.859985        1.944349          -1.051781  1326900   \n",
       "2019-12-03  1294.739990        1.558609           1.257563  1263500   \n",
       "2019-12-04  1318.939941        1.608866           0.983077  1775300   \n",
       "\n",
       "                  label  \n",
       "Date                     \n",
       "2019-11-27  1354.890015  \n",
       "2019-11-29  1351.910034  \n",
       "2019-12-02  1356.439941  \n",
       "2019-12-03  1351.219971  \n",
       "2019-12-04  1350.630005  "
      ]
     },
     "execution_count": 92,
     "metadata": {},
     "output_type": "execute_result"
    }
   ],
   "source": [
    "df['percentage_h_l'] = (df['High'] - df['Low']) / df['Close'] * 100.0\n",
    "df['percentage_change'] = (df['Close'] - df['Open']) / df['Open'] * 100.0\n",
    "df = df[['Close', 'percentage_h_l', 'percentage_change', 'Volume']]\n",
    "\n",
    "forecast_col = 'Close'\n",
    "df.fillna(value=-99999, inplace=True)\n",
    "forecast_out = int(math.ceil(0.01 * len(df)))\n",
    "df['label'] = df[forecast_col].shift(-forecast_out)\n",
    "df.dropna(inplace=True)\n",
    "\n",
    "df.tail()"
   ]
  },
  {
   "cell_type": "code",
   "execution_count": 93,
   "metadata": {},
   "outputs": [
    {
     "data": {
      "image/png": "[encoded data removed]",
      "text/plain": [
       "<Figure size 1080x504 with 1 Axes>"
      ]
     },
     "metadata": {
      "needs_background": "light"
     },
     "output_type": "display_data"
    }
   ],
   "source": [
    "graph = df['label'].plot()\n",
    "\n",
    "# Set graph labels and titles \n",
    "graph.set_xlabel('Date', fontsize=14)\n",
    "graph.set_ylabel('Share Price (USD)', fontsize=14)\n",
    "graph.set_title(f'{company} Stock Price', fontsize=20)\n",
    "\n",
    "plt.rcParams['figure.figsize'] = [15, 7]  # Set size of graph \n",
    "plt.grid(axis='x')  # Add grid lines on the x axis\n",
    "plt.tight_layout()\n",
    "plt.show()"
   ]
  },
  {
   "cell_type": "code",
   "execution_count": 94,
   "metadata": {},
   "outputs": [
    {
     "data": {
      "text/plain": [
       "'The confidence level is: 0.9622783576444761'"
      ]
     },
     "execution_count": 94,
     "metadata": {},
     "output_type": "execute_result"
    }
   ],
   "source": [
    "X = np.array(df.drop(['label'], 1))\n",
    "y = np.array(df['label'])\n",
    "X = preprocessing.scale(X)\n",
    "\n",
    "X_train, X_test, y_train, y_test = model_selection.train_test_split(X, y, test_size=0.2)\n",
    "\n",
    "clf = LinearRegression(n_jobs=-1)\n",
    "clf.fit(X_train, y_train)\n",
    "confidence = clf.score(X_test, y_test)\n",
    "\n",
    "f'The confidence level is: {confidence}'"
   ]
  },
  {
   "cell_type": "code",
   "execution_count": null,
   "metadata": {},
   "outputs": [],
   "source": []
  }
 ],
 "metadata": {
  "kernelspec": {
   "display_name": "Python 3",
   "language": "python",
   "name": "python3"
  },
  "language_info": {
   "codemirror_mode": {
    "name": "ipython",
    "version": 3
   },
   "file_extension": ".py",
   "mimetype": "text/x-python",
   "name": "python",
   "nbconvert_exporter": "python",
   "pygments_lexer": "ipython3",
   "version": "3.7.4"
  }
 },
 "nbformat": 4,
 "nbformat_minor": 4
}
